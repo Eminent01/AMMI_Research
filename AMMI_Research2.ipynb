{
  "nbformat": 4,
  "nbformat_minor": 0,
  "metadata": {
    "colab": {
      "provenance": [],
      "collapsed_sections": [],
      "authorship_tag": "ABX9TyMN6RqQ4jnvpb0tI/CpAFdX",
      "include_colab_link": true
    },
    "kernelspec": {
      "name": "python3",
      "display_name": "Python 3"
    },
    "language_info": {
      "name": "python"
    }
  },
  "cells": [
    {
      "cell_type": "markdown",
      "metadata": {
        "id": "view-in-github",
        "colab_type": "text"
      },
      "source": [
        "<a href=\"https://colab.research.google.com/github/Eminent01/AMMI_Research/blob/main/AMMI_Research2.ipynb\" target=\"_parent\"><img src=\"https://colab.research.google.com/assets/colab-badge.svg\" alt=\"Open In Colab\"/></a>"
      ]
    },
    {
      "cell_type": "code",
      "source": [
        "# import sys\n",
        "# import os\n",
        "# # import config\n",
        "# import pandas as pd\n",
        "# import numpy as np\n",
        "# # from config import config\n",
        "# import matplotlib.pylab as plt\n",
        "\n",
        "# import yfinance as yf\n",
        "# from pandas_datareader import data as pdr\n",
        "# import pkg_resources\n",
        "# %matplotlib inline"
      ],
      "metadata": {
        "id": "NmbMa7pxPL56"
      },
      "execution_count": 8,
      "outputs": []
    },
    {
      "cell_type": "code",
      "source": [
        "# from pandas_datareader import data\n",
        "# import matplotlib.pyplot as plt\n",
        "# import pandas as pd"
      ],
      "metadata": {
        "id": "Ow3bWvlNIrLQ"
      },
      "execution_count": 12,
      "outputs": []
    },
    {
      "cell_type": "code",
      "source": [
        "# # Define the instruments to download. We would like to see Apple, Microsoft and the S&P500 index.\n",
        "# tickers = ['AAPL', 'MSFT', '^GSPC']\n",
        "\n",
        "# # We would like all available data from 01/01/2000 until 12/31/2016.\n",
        "# start_date = '2010-01-01'\n",
        "# end_date = '2016-12-31'\n",
        "\n",
        "# # User pandas_reader.data.DataReader to load the desired data. As simple as that.\n",
        "# panel_data = data.DataReader('INPX', 'google', start_date, end_date)"
      ],
      "metadata": {
        "id": "7-60CDj-I2Ab"
      },
      "execution_count": null,
      "outputs": []
    },
    {
      "cell_type": "code",
      "source": [
        "# start_date = '2016-01-01'\n",
        "# end_date = '2020-12-31'"
      ],
      "metadata": {
        "id": "QKsCbCE3I-N9"
      },
      "execution_count": 14,
      "outputs": []
    },
    {
      "cell_type": "code",
      "source": [
        "# panel_data = data.DataReader(ticker_list, start_date, end_date)"
      ],
      "metadata": {
        "id": "TN3f8Cd3JXId"
      },
      "execution_count": null,
      "outputs": []
    },
    {
      "cell_type": "code",
      "source": [
        "# panel_data.to_frame().head(9)"
      ],
      "metadata": {
        "id": "vx3jJ48GJT2i"
      },
      "execution_count": null,
      "outputs": []
    },
    {
      "cell_type": "code",
      "source": [
        "# df = pdr.get_data_yahoo([ticker_list][0], \n",
        "#                           start='2008-01-01', end=\"2021-01-01\")"
      ],
      "metadata": {
        "id": "toN4ayYWBBpo"
      },
      "execution_count": null,
      "outputs": []
    },
    {
      "cell_type": "code",
      "source": [
        "# data = df.copy()"
      ],
      "metadata": {
        "id": "cnH_Sl-oIeE9"
      },
      "execution_count": null,
      "outputs": []
    },
    {
      "cell_type": "code",
      "source": [
        "# data = data.stack().reset_index()\n",
        "# data.columns.names = [None]\n",
        "# data = data.drop(['Close'], axis=1)\n",
        "# data.head()"
      ],
      "metadata": {
        "id": "xjFn2aDZIhma"
      },
      "execution_count": null,
      "outputs": []
    },
    {
      "cell_type": "code",
      "source": [],
      "metadata": {
        "id": "gRSvmgi2InND"
      },
      "execution_count": null,
      "outputs": []
    },
    {
      "cell_type": "code",
      "source": [],
      "metadata": {
        "id": "F2F7jOkJp-_q"
      },
      "execution_count": null,
      "outputs": []
    },
    {
      "cell_type": "markdown",
      "source": [
        "### Download data from Yfinance API"
      ],
      "metadata": {
        "id": "oQ_XZROrsKJM"
      }
    },
    {
      "cell_type": "code",
      "source": [
        "!pip install yfinance\n",
        "!pip install yahoofinancials"
      ],
      "metadata": {
        "colab": {
          "base_uri": "https://localhost:8080/"
        },
        "id": "0Ns7KM3fqjic",
        "outputId": "943541be-80db-4951-8434-a905a7011c21"
      },
      "execution_count": 1,
      "outputs": [
        {
          "output_type": "stream",
          "name": "stdout",
          "text": [
            "Looking in indexes: https://pypi.org/simple, https://us-python.pkg.dev/colab-wheels/public/simple/\n",
            "Requirement already satisfied: yfinance in /usr/local/lib/python3.7/dist-packages (0.1.87)\n",
            "Requirement already satisfied: multitasking>=0.0.7 in /usr/local/lib/python3.7/dist-packages (from yfinance) (0.0.11)\n",
            "Requirement already satisfied: lxml>=4.5.1 in /usr/local/lib/python3.7/dist-packages (from yfinance) (4.9.1)\n",
            "Requirement already satisfied: numpy>=1.15 in /usr/local/lib/python3.7/dist-packages (from yfinance) (1.21.6)\n",
            "Requirement already satisfied: requests>=2.26 in /usr/local/lib/python3.7/dist-packages (from yfinance) (2.28.1)\n",
            "Requirement already satisfied: pandas>=0.24.0 in /usr/local/lib/python3.7/dist-packages (from yfinance) (1.3.5)\n",
            "Requirement already satisfied: appdirs>=1.4.4 in /usr/local/lib/python3.7/dist-packages (from yfinance) (1.4.4)\n",
            "Requirement already satisfied: pytz>=2017.3 in /usr/local/lib/python3.7/dist-packages (from pandas>=0.24.0->yfinance) (2022.6)\n",
            "Requirement already satisfied: python-dateutil>=2.7.3 in /usr/local/lib/python3.7/dist-packages (from pandas>=0.24.0->yfinance) (2.8.2)\n",
            "Requirement already satisfied: six>=1.5 in /usr/local/lib/python3.7/dist-packages (from python-dateutil>=2.7.3->pandas>=0.24.0->yfinance) (1.15.0)\n",
            "Requirement already satisfied: certifi>=2017.4.17 in /usr/local/lib/python3.7/dist-packages (from requests>=2.26->yfinance) (2022.9.24)\n",
            "Requirement already satisfied: charset-normalizer<3,>=2 in /usr/local/lib/python3.7/dist-packages (from requests>=2.26->yfinance) (2.1.1)\n",
            "Requirement already satisfied: urllib3<1.27,>=1.21.1 in /usr/local/lib/python3.7/dist-packages (from requests>=2.26->yfinance) (1.24.3)\n",
            "Requirement already satisfied: idna<4,>=2.5 in /usr/local/lib/python3.7/dist-packages (from requests>=2.26->yfinance) (2.10)\n",
            "Looking in indexes: https://pypi.org/simple, https://us-python.pkg.dev/colab-wheels/public/simple/\n",
            "Collecting yahoofinancials\n",
            "  Downloading yahoofinancials-1.6.tar.gz (27 kB)\n",
            "Requirement already satisfied: beautifulsoup4 in /usr/local/lib/python3.7/dist-packages (from yahoofinancials) (4.6.3)\n",
            "Requirement already satisfied: pytz in /usr/local/lib/python3.7/dist-packages (from yahoofinancials) (2022.6)\n",
            "Building wheels for collected packages: yahoofinancials\n",
            "  Building wheel for yahoofinancials (setup.py) ... \u001b[?25l\u001b[?25hdone\n",
            "  Created wheel for yahoofinancials: filename=yahoofinancials-1.6-py3-none-any.whl size=15191 sha256=109d8364b38ebf0075d106c835320f0aa1641c58b21fcb8ba1019beb1c52b210\n",
            "  Stored in directory: /root/.cache/pip/wheels/4b/63/46/e7110bfee88685fe69e338d1b14d1748921862aa57b6705b60\n",
            "Successfully built yahoofinancials\n",
            "Installing collected packages: yahoofinancials\n",
            "Successfully installed yahoofinancials-1.6\n"
          ]
        }
      ]
    },
    {
      "cell_type": "code",
      "source": [
        "ticker_list = ['WBA', 'TRV', 'MMM', 'RTX', 'DD', 'KO', 'V', 'XOM', 'CAT', 'PG',\n",
        "       'AXP', 'WMT', 'MSFT', 'VZ', 'JPM', 'UNH', 'DIS', 'HD', 'AAPL', 'CVX',\n",
        "       'JNJ', 'CSCO', 'PFE', 'IBM', 'MRK', 'INTC', 'MCD', 'BA', 'NKE', 'GS']"
      ],
      "metadata": {
        "id": "1S3TQlAeq2nU"
      },
      "execution_count": 4,
      "outputs": []
    },
    {
      "cell_type": "code",
      "source": [
        "import pandas as pd\n",
        "import yfinance as yf\n",
        "from yahoofinancials import YahooFinancials\n",
        "\n",
        "df = yf.download(ticker_list, \n",
        "                      start='2019-01-01', \n",
        "                      end='2021-06-12', \n",
        "                      progress=False,\n",
        ")\n",
        "print(df.head())"
      ],
      "metadata": {
        "colab": {
          "base_uri": "https://localhost:8080/"
        },
        "id": "5MTci8REp-sX",
        "outputId": "0d0fddcd-f46e-436a-ab43-4d0b38d3c349"
      },
      "execution_count": 9,
      "outputs": [
        {
          "output_type": "stream",
          "name": "stdout",
          "text": [
            "            Adj Close                                                \\\n",
            "                 AAPL        AXP          BA         CAT       CSCO   \n",
            "Date                                                                  \n",
            "2019-01-02  38.105133  90.403229  314.645111  114.177406  38.037758   \n",
            "2019-01-03  34.309597  88.638588  302.100555  109.777626  36.654400   \n",
            "2019-01-04  35.774235  92.632698  317.822571  115.776497  38.305492   \n",
            "2019-01-07  35.694607  93.135513  318.823456  115.848770  38.564316   \n",
            "2019-01-08  36.375057  93.590919  330.891907  117.240097  38.876694   \n",
            "\n",
            "                                                                      ...  \\\n",
            "                  CVX         DD         DIS          GS          HD  ...   \n",
            "Date                                                                  ...   \n",
            "2019-01-02  93.039490  72.167259  107.654335  158.627197  157.620926  ...   \n",
            "2019-01-03  91.257530  69.506660  105.046211  156.303497  154.146866  ...   \n",
            "2019-01-04  93.148743  72.445229  108.286606  161.411926  158.727142  ...   \n",
            "2019-01-07  94.359131  72.484940  109.225136  162.306335  161.853760  ...   \n",
            "2019-01-08  93.947273  73.318863  110.074760  161.706985  162.630875  ...   \n",
            "\n",
            "              Volume                                                  \\\n",
            "                 PFE        PG       RTX      TRV      UNH         V   \n",
            "Date                                                                   \n",
            "2019-01-02  26430315   9843900   9361752  1793400  4063600   8788000   \n",
            "2019-01-03  28503533   9820200   8884258  1887500  4623200   9428300   \n",
            "2019-01-04  27145348  10565700  10083317  1793900  5367600  11065800   \n",
            "2019-01-07  20995469   9012500   8314601  1082800  4133000  12928000   \n",
            "2019-01-08  19677231   9551300   5951282  1403900  3618600   9243000   \n",
            "\n",
            "                                                  \n",
            "                  VZ      WBA      WMT       XOM  \n",
            "Date                                              \n",
            "2019-01-02  13969700  5528100  8152700  16727200  \n",
            "2019-01-03  19245400  5853200  8277300  13866100  \n",
            "2019-01-04  17035800  6868600  8029100  16043600  \n",
            "2019-01-07  16349000  6192500  7789700  10844200  \n",
            "2019-01-08  21424600  6548100  7200900  11439000  \n",
            "\n",
            "[5 rows x 180 columns]\n"
          ]
        }
      ]
    },
    {
      "cell_type": "code",
      "source": [
        "data = df.copy()"
      ],
      "metadata": {
        "id": "ZAODP2qCq6Za"
      },
      "execution_count": 10,
      "outputs": []
    },
    {
      "cell_type": "code",
      "source": [
        "data = data.stack().reset_index()\n",
        "data.columns.names = [None]\n",
        "data = data.drop(['Close'], axis=1)"
      ],
      "metadata": {
        "id": "F_71wpYrr2K2"
      },
      "execution_count": 11,
      "outputs": []
    },
    {
      "cell_type": "code",
      "source": [
        "data.head()"
      ],
      "metadata": {
        "colab": {
          "base_uri": "https://localhost:8080/",
          "height": 206
        },
        "id": "TkhgyqU9sDYu",
        "outputId": "ce7a0ca5-c9e8-4bea-eda1-c7c5f0336be8"
      },
      "execution_count": 12,
      "outputs": [
        {
          "output_type": "execute_result",
          "data": {
            "text/plain": [
              "        Date level_1   Adj Close        High         Low        Open  \\\n",
              "0 2019-01-02    AAPL   38.105133   39.712502   38.557499   38.722500   \n",
              "1 2019-01-02     AXP   90.403229   96.269997   93.769997   93.910004   \n",
              "2 2019-01-02      BA  314.645111  323.950012  313.709991  316.190002   \n",
              "3 2019-01-02     CAT  114.177406  127.879997  123.000000  124.029999   \n",
              "4 2019-01-02    CSCO   38.037758   43.200001   42.209999   42.279999   \n",
              "\n",
              "      Volume  \n",
              "0  148158800  \n",
              "1    4175400  \n",
              "2    3292200  \n",
              "3    4783200  \n",
              "4   23833500  "
            ],
            "text/html": [
              "\n",
              "  <div id=\"df-f02f1ccc-f1eb-4a08-9c9f-7be289b829b2\">\n",
              "    <div class=\"colab-df-container\">\n",
              "      <div>\n",
              "<style scoped>\n",
              "    .dataframe tbody tr th:only-of-type {\n",
              "        vertical-align: middle;\n",
              "    }\n",
              "\n",
              "    .dataframe tbody tr th {\n",
              "        vertical-align: top;\n",
              "    }\n",
              "\n",
              "    .dataframe thead th {\n",
              "        text-align: right;\n",
              "    }\n",
              "</style>\n",
              "<table border=\"1\" class=\"dataframe\">\n",
              "  <thead>\n",
              "    <tr style=\"text-align: right;\">\n",
              "      <th></th>\n",
              "      <th>Date</th>\n",
              "      <th>level_1</th>\n",
              "      <th>Adj Close</th>\n",
              "      <th>High</th>\n",
              "      <th>Low</th>\n",
              "      <th>Open</th>\n",
              "      <th>Volume</th>\n",
              "    </tr>\n",
              "  </thead>\n",
              "  <tbody>\n",
              "    <tr>\n",
              "      <th>0</th>\n",
              "      <td>2019-01-02</td>\n",
              "      <td>AAPL</td>\n",
              "      <td>38.105133</td>\n",
              "      <td>39.712502</td>\n",
              "      <td>38.557499</td>\n",
              "      <td>38.722500</td>\n",
              "      <td>148158800</td>\n",
              "    </tr>\n",
              "    <tr>\n",
              "      <th>1</th>\n",
              "      <td>2019-01-02</td>\n",
              "      <td>AXP</td>\n",
              "      <td>90.403229</td>\n",
              "      <td>96.269997</td>\n",
              "      <td>93.769997</td>\n",
              "      <td>93.910004</td>\n",
              "      <td>4175400</td>\n",
              "    </tr>\n",
              "    <tr>\n",
              "      <th>2</th>\n",
              "      <td>2019-01-02</td>\n",
              "      <td>BA</td>\n",
              "      <td>314.645111</td>\n",
              "      <td>323.950012</td>\n",
              "      <td>313.709991</td>\n",
              "      <td>316.190002</td>\n",
              "      <td>3292200</td>\n",
              "    </tr>\n",
              "    <tr>\n",
              "      <th>3</th>\n",
              "      <td>2019-01-02</td>\n",
              "      <td>CAT</td>\n",
              "      <td>114.177406</td>\n",
              "      <td>127.879997</td>\n",
              "      <td>123.000000</td>\n",
              "      <td>124.029999</td>\n",
              "      <td>4783200</td>\n",
              "    </tr>\n",
              "    <tr>\n",
              "      <th>4</th>\n",
              "      <td>2019-01-02</td>\n",
              "      <td>CSCO</td>\n",
              "      <td>38.037758</td>\n",
              "      <td>43.200001</td>\n",
              "      <td>42.209999</td>\n",
              "      <td>42.279999</td>\n",
              "      <td>23833500</td>\n",
              "    </tr>\n",
              "  </tbody>\n",
              "</table>\n",
              "</div>\n",
              "      <button class=\"colab-df-convert\" onclick=\"convertToInteractive('df-f02f1ccc-f1eb-4a08-9c9f-7be289b829b2')\"\n",
              "              title=\"Convert this dataframe to an interactive table.\"\n",
              "              style=\"display:none;\">\n",
              "        \n",
              "  <svg xmlns=\"http://www.w3.org/2000/svg\" height=\"24px\"viewBox=\"0 0 24 24\"\n",
              "       width=\"24px\">\n",
              "    <path d=\"M0 0h24v24H0V0z\" fill=\"none\"/>\n",
              "    <path d=\"M18.56 5.44l.94 2.06.94-2.06 2.06-.94-2.06-.94-.94-2.06-.94 2.06-2.06.94zm-11 1L8.5 8.5l.94-2.06 2.06-.94-2.06-.94L8.5 2.5l-.94 2.06-2.06.94zm10 10l.94 2.06.94-2.06 2.06-.94-2.06-.94-.94-2.06-.94 2.06-2.06.94z\"/><path d=\"M17.41 7.96l-1.37-1.37c-.4-.4-.92-.59-1.43-.59-.52 0-1.04.2-1.43.59L10.3 9.45l-7.72 7.72c-.78.78-.78 2.05 0 2.83L4 21.41c.39.39.9.59 1.41.59.51 0 1.02-.2 1.41-.59l7.78-7.78 2.81-2.81c.8-.78.8-2.07 0-2.86zM5.41 20L4 18.59l7.72-7.72 1.47 1.35L5.41 20z\"/>\n",
              "  </svg>\n",
              "      </button>\n",
              "      \n",
              "  <style>\n",
              "    .colab-df-container {\n",
              "      display:flex;\n",
              "      flex-wrap:wrap;\n",
              "      gap: 12px;\n",
              "    }\n",
              "\n",
              "    .colab-df-convert {\n",
              "      background-color: #E8F0FE;\n",
              "      border: none;\n",
              "      border-radius: 50%;\n",
              "      cursor: pointer;\n",
              "      display: none;\n",
              "      fill: #1967D2;\n",
              "      height: 32px;\n",
              "      padding: 0 0 0 0;\n",
              "      width: 32px;\n",
              "    }\n",
              "\n",
              "    .colab-df-convert:hover {\n",
              "      background-color: #E2EBFA;\n",
              "      box-shadow: 0px 1px 2px rgba(60, 64, 67, 0.3), 0px 1px 3px 1px rgba(60, 64, 67, 0.15);\n",
              "      fill: #174EA6;\n",
              "    }\n",
              "\n",
              "    [theme=dark] .colab-df-convert {\n",
              "      background-color: #3B4455;\n",
              "      fill: #D2E3FC;\n",
              "    }\n",
              "\n",
              "    [theme=dark] .colab-df-convert:hover {\n",
              "      background-color: #434B5C;\n",
              "      box-shadow: 0px 1px 3px 1px rgba(0, 0, 0, 0.15);\n",
              "      filter: drop-shadow(0px 1px 2px rgba(0, 0, 0, 0.3));\n",
              "      fill: #FFFFFF;\n",
              "    }\n",
              "  </style>\n",
              "\n",
              "      <script>\n",
              "        const buttonEl =\n",
              "          document.querySelector('#df-f02f1ccc-f1eb-4a08-9c9f-7be289b829b2 button.colab-df-convert');\n",
              "        buttonEl.style.display =\n",
              "          google.colab.kernel.accessAllowed ? 'block' : 'none';\n",
              "\n",
              "        async function convertToInteractive(key) {\n",
              "          const element = document.querySelector('#df-f02f1ccc-f1eb-4a08-9c9f-7be289b829b2');\n",
              "          const dataTable =\n",
              "            await google.colab.kernel.invokeFunction('convertToInteractive',\n",
              "                                                     [key], {});\n",
              "          if (!dataTable) return;\n",
              "\n",
              "          const docLinkHtml = 'Like what you see? Visit the ' +\n",
              "            '<a target=\"_blank\" href=https://colab.research.google.com/notebooks/data_table.ipynb>data table notebook</a>'\n",
              "            + ' to learn more about interactive tables.';\n",
              "          element.innerHTML = '';\n",
              "          dataTable['output_type'] = 'display_data';\n",
              "          await google.colab.output.renderOutput(dataTable, element);\n",
              "          const docLink = document.createElement('div');\n",
              "          docLink.innerHTML = docLinkHtml;\n",
              "          element.appendChild(docLink);\n",
              "        }\n",
              "      </script>\n",
              "    </div>\n",
              "  </div>\n",
              "  "
            ]
          },
          "metadata": {},
          "execution_count": 12
        }
      ]
    },
    {
      "cell_type": "code",
      "source": [
        "data.columns = ['date','stock_name','close','high','low','open','volume']"
      ],
      "metadata": {
        "id": "5romHQa-tVLx"
      },
      "execution_count": 13,
      "outputs": []
    },
    {
      "cell_type": "code",
      "source": [
        "data.head()"
      ],
      "metadata": {
        "colab": {
          "base_uri": "https://localhost:8080/",
          "height": 206
        },
        "id": "DNrIqu74to86",
        "outputId": "230d8872-a26a-45af-c458-d5b6e8c9cb20"
      },
      "execution_count": 15,
      "outputs": [
        {
          "output_type": "execute_result",
          "data": {
            "text/plain": [
              "        date stock_name       close        high         low        open  \\\n",
              "0 2019-01-02       AAPL   38.105133   39.712502   38.557499   38.722500   \n",
              "1 2019-01-02        AXP   90.403229   96.269997   93.769997   93.910004   \n",
              "2 2019-01-02         BA  314.645111  323.950012  313.709991  316.190002   \n",
              "3 2019-01-02        CAT  114.177406  127.879997  123.000000  124.029999   \n",
              "4 2019-01-02       CSCO   38.037758   43.200001   42.209999   42.279999   \n",
              "\n",
              "      volume  \n",
              "0  148158800  \n",
              "1    4175400  \n",
              "2    3292200  \n",
              "3    4783200  \n",
              "4   23833500  "
            ],
            "text/html": [
              "\n",
              "  <div id=\"df-f5bd9b5a-ab4d-43fa-b5f6-a08b9bd3cd62\">\n",
              "    <div class=\"colab-df-container\">\n",
              "      <div>\n",
              "<style scoped>\n",
              "    .dataframe tbody tr th:only-of-type {\n",
              "        vertical-align: middle;\n",
              "    }\n",
              "\n",
              "    .dataframe tbody tr th {\n",
              "        vertical-align: top;\n",
              "    }\n",
              "\n",
              "    .dataframe thead th {\n",
              "        text-align: right;\n",
              "    }\n",
              "</style>\n",
              "<table border=\"1\" class=\"dataframe\">\n",
              "  <thead>\n",
              "    <tr style=\"text-align: right;\">\n",
              "      <th></th>\n",
              "      <th>date</th>\n",
              "      <th>stock_name</th>\n",
              "      <th>close</th>\n",
              "      <th>high</th>\n",
              "      <th>low</th>\n",
              "      <th>open</th>\n",
              "      <th>volume</th>\n",
              "    </tr>\n",
              "  </thead>\n",
              "  <tbody>\n",
              "    <tr>\n",
              "      <th>0</th>\n",
              "      <td>2019-01-02</td>\n",
              "      <td>AAPL</td>\n",
              "      <td>38.105133</td>\n",
              "      <td>39.712502</td>\n",
              "      <td>38.557499</td>\n",
              "      <td>38.722500</td>\n",
              "      <td>148158800</td>\n",
              "    </tr>\n",
              "    <tr>\n",
              "      <th>1</th>\n",
              "      <td>2019-01-02</td>\n",
              "      <td>AXP</td>\n",
              "      <td>90.403229</td>\n",
              "      <td>96.269997</td>\n",
              "      <td>93.769997</td>\n",
              "      <td>93.910004</td>\n",
              "      <td>4175400</td>\n",
              "    </tr>\n",
              "    <tr>\n",
              "      <th>2</th>\n",
              "      <td>2019-01-02</td>\n",
              "      <td>BA</td>\n",
              "      <td>314.645111</td>\n",
              "      <td>323.950012</td>\n",
              "      <td>313.709991</td>\n",
              "      <td>316.190002</td>\n",
              "      <td>3292200</td>\n",
              "    </tr>\n",
              "    <tr>\n",
              "      <th>3</th>\n",
              "      <td>2019-01-02</td>\n",
              "      <td>CAT</td>\n",
              "      <td>114.177406</td>\n",
              "      <td>127.879997</td>\n",
              "      <td>123.000000</td>\n",
              "      <td>124.029999</td>\n",
              "      <td>4783200</td>\n",
              "    </tr>\n",
              "    <tr>\n",
              "      <th>4</th>\n",
              "      <td>2019-01-02</td>\n",
              "      <td>CSCO</td>\n",
              "      <td>38.037758</td>\n",
              "      <td>43.200001</td>\n",
              "      <td>42.209999</td>\n",
              "      <td>42.279999</td>\n",
              "      <td>23833500</td>\n",
              "    </tr>\n",
              "  </tbody>\n",
              "</table>\n",
              "</div>\n",
              "      <button class=\"colab-df-convert\" onclick=\"convertToInteractive('df-f5bd9b5a-ab4d-43fa-b5f6-a08b9bd3cd62')\"\n",
              "              title=\"Convert this dataframe to an interactive table.\"\n",
              "              style=\"display:none;\">\n",
              "        \n",
              "  <svg xmlns=\"http://www.w3.org/2000/svg\" height=\"24px\"viewBox=\"0 0 24 24\"\n",
              "       width=\"24px\">\n",
              "    <path d=\"M0 0h24v24H0V0z\" fill=\"none\"/>\n",
              "    <path d=\"M18.56 5.44l.94 2.06.94-2.06 2.06-.94-2.06-.94-.94-2.06-.94 2.06-2.06.94zm-11 1L8.5 8.5l.94-2.06 2.06-.94-2.06-.94L8.5 2.5l-.94 2.06-2.06.94zm10 10l.94 2.06.94-2.06 2.06-.94-2.06-.94-.94-2.06-.94 2.06-2.06.94z\"/><path d=\"M17.41 7.96l-1.37-1.37c-.4-.4-.92-.59-1.43-.59-.52 0-1.04.2-1.43.59L10.3 9.45l-7.72 7.72c-.78.78-.78 2.05 0 2.83L4 21.41c.39.39.9.59 1.41.59.51 0 1.02-.2 1.41-.59l7.78-7.78 2.81-2.81c.8-.78.8-2.07 0-2.86zM5.41 20L4 18.59l7.72-7.72 1.47 1.35L5.41 20z\"/>\n",
              "  </svg>\n",
              "      </button>\n",
              "      \n",
              "  <style>\n",
              "    .colab-df-container {\n",
              "      display:flex;\n",
              "      flex-wrap:wrap;\n",
              "      gap: 12px;\n",
              "    }\n",
              "\n",
              "    .colab-df-convert {\n",
              "      background-color: #E8F0FE;\n",
              "      border: none;\n",
              "      border-radius: 50%;\n",
              "      cursor: pointer;\n",
              "      display: none;\n",
              "      fill: #1967D2;\n",
              "      height: 32px;\n",
              "      padding: 0 0 0 0;\n",
              "      width: 32px;\n",
              "    }\n",
              "\n",
              "    .colab-df-convert:hover {\n",
              "      background-color: #E2EBFA;\n",
              "      box-shadow: 0px 1px 2px rgba(60, 64, 67, 0.3), 0px 1px 3px 1px rgba(60, 64, 67, 0.15);\n",
              "      fill: #174EA6;\n",
              "    }\n",
              "\n",
              "    [theme=dark] .colab-df-convert {\n",
              "      background-color: #3B4455;\n",
              "      fill: #D2E3FC;\n",
              "    }\n",
              "\n",
              "    [theme=dark] .colab-df-convert:hover {\n",
              "      background-color: #434B5C;\n",
              "      box-shadow: 0px 1px 3px 1px rgba(0, 0, 0, 0.15);\n",
              "      filter: drop-shadow(0px 1px 2px rgba(0, 0, 0, 0.3));\n",
              "      fill: #FFFFFF;\n",
              "    }\n",
              "  </style>\n",
              "\n",
              "      <script>\n",
              "        const buttonEl =\n",
              "          document.querySelector('#df-f5bd9b5a-ab4d-43fa-b5f6-a08b9bd3cd62 button.colab-df-convert');\n",
              "        buttonEl.style.display =\n",
              "          google.colab.kernel.accessAllowed ? 'block' : 'none';\n",
              "\n",
              "        async function convertToInteractive(key) {\n",
              "          const element = document.querySelector('#df-f5bd9b5a-ab4d-43fa-b5f6-a08b9bd3cd62');\n",
              "          const dataTable =\n",
              "            await google.colab.kernel.invokeFunction('convertToInteractive',\n",
              "                                                     [key], {});\n",
              "          if (!dataTable) return;\n",
              "\n",
              "          const docLinkHtml = 'Like what you see? Visit the ' +\n",
              "            '<a target=\"_blank\" href=https://colab.research.google.com/notebooks/data_table.ipynb>data table notebook</a>'\n",
              "            + ' to learn more about interactive tables.';\n",
              "          element.innerHTML = '';\n",
              "          dataTable['output_type'] = 'display_data';\n",
              "          await google.colab.output.renderOutput(dataTable, element);\n",
              "          const docLink = document.createElement('div');\n",
              "          docLink.innerHTML = docLinkHtml;\n",
              "          element.appendChild(docLink);\n",
              "        }\n",
              "      </script>\n",
              "    </div>\n",
              "  </div>\n",
              "  "
            ]
          },
          "metadata": {},
          "execution_count": 15
        }
      ]
    },
    {
      "cell_type": "code",
      "source": [
        "# check for missing values\n",
        "data.isna().sum()"
      ],
      "metadata": {
        "colab": {
          "base_uri": "https://localhost:8080/"
        },
        "id": "9m6hEwA-tjaX",
        "outputId": "3d8edff2-e058-4a2a-816d-5a8153de6772"
      },
      "execution_count": 14,
      "outputs": [
        {
          "output_type": "execute_result",
          "data": {
            "text/plain": [
              "date          0\n",
              "stock_name    0\n",
              "close         0\n",
              "high          0\n",
              "low           0\n",
              "open          0\n",
              "volume        0\n",
              "dtype: int64"
            ]
          },
          "metadata": {},
          "execution_count": 14
        }
      ]
    },
    {
      "cell_type": "code",
      "source": [
        "# check if all stock have the same number of data points\n",
        "\n",
        "no_datasets = []\n",
        "for i in ticker_list:\n",
        "    no_data_points = data[data['stock_name']==i].shape[0]\n",
        "    no_datasets.append((i,no_data_points))\n",
        "    data_points_df = pd.DataFrame(no_datasets)"
      ],
      "metadata": {
        "id": "04kAvBb6uM-C"
      },
      "execution_count": 16,
      "outputs": []
    },
    {
      "cell_type": "code",
      "source": [
        "data_points_df.head()"
      ],
      "metadata": {
        "colab": {
          "base_uri": "https://localhost:8080/",
          "height": 206
        },
        "id": "9VaFbtasuXon",
        "outputId": "cf2327d0-5d91-441f-d75c-e99ce9d2621a"
      },
      "execution_count": 17,
      "outputs": [
        {
          "output_type": "execute_result",
          "data": {
            "text/plain": [
              "     0    1\n",
              "0  WBA  616\n",
              "1  TRV  616\n",
              "2  MMM  616\n",
              "3  RTX  616\n",
              "4   DD  616"
            ],
            "text/html": [
              "\n",
              "  <div id=\"df-02477465-047a-47fd-90f1-bf7fee6f408b\">\n",
              "    <div class=\"colab-df-container\">\n",
              "      <div>\n",
              "<style scoped>\n",
              "    .dataframe tbody tr th:only-of-type {\n",
              "        vertical-align: middle;\n",
              "    }\n",
              "\n",
              "    .dataframe tbody tr th {\n",
              "        vertical-align: top;\n",
              "    }\n",
              "\n",
              "    .dataframe thead th {\n",
              "        text-align: right;\n",
              "    }\n",
              "</style>\n",
              "<table border=\"1\" class=\"dataframe\">\n",
              "  <thead>\n",
              "    <tr style=\"text-align: right;\">\n",
              "      <th></th>\n",
              "      <th>0</th>\n",
              "      <th>1</th>\n",
              "    </tr>\n",
              "  </thead>\n",
              "  <tbody>\n",
              "    <tr>\n",
              "      <th>0</th>\n",
              "      <td>WBA</td>\n",
              "      <td>616</td>\n",
              "    </tr>\n",
              "    <tr>\n",
              "      <th>1</th>\n",
              "      <td>TRV</td>\n",
              "      <td>616</td>\n",
              "    </tr>\n",
              "    <tr>\n",
              "      <th>2</th>\n",
              "      <td>MMM</td>\n",
              "      <td>616</td>\n",
              "    </tr>\n",
              "    <tr>\n",
              "      <th>3</th>\n",
              "      <td>RTX</td>\n",
              "      <td>616</td>\n",
              "    </tr>\n",
              "    <tr>\n",
              "      <th>4</th>\n",
              "      <td>DD</td>\n",
              "      <td>616</td>\n",
              "    </tr>\n",
              "  </tbody>\n",
              "</table>\n",
              "</div>\n",
              "      <button class=\"colab-df-convert\" onclick=\"convertToInteractive('df-02477465-047a-47fd-90f1-bf7fee6f408b')\"\n",
              "              title=\"Convert this dataframe to an interactive table.\"\n",
              "              style=\"display:none;\">\n",
              "        \n",
              "  <svg xmlns=\"http://www.w3.org/2000/svg\" height=\"24px\"viewBox=\"0 0 24 24\"\n",
              "       width=\"24px\">\n",
              "    <path d=\"M0 0h24v24H0V0z\" fill=\"none\"/>\n",
              "    <path d=\"M18.56 5.44l.94 2.06.94-2.06 2.06-.94-2.06-.94-.94-2.06-.94 2.06-2.06.94zm-11 1L8.5 8.5l.94-2.06 2.06-.94-2.06-.94L8.5 2.5l-.94 2.06-2.06.94zm10 10l.94 2.06.94-2.06 2.06-.94-2.06-.94-.94-2.06-.94 2.06-2.06.94z\"/><path d=\"M17.41 7.96l-1.37-1.37c-.4-.4-.92-.59-1.43-.59-.52 0-1.04.2-1.43.59L10.3 9.45l-7.72 7.72c-.78.78-.78 2.05 0 2.83L4 21.41c.39.39.9.59 1.41.59.51 0 1.02-.2 1.41-.59l7.78-7.78 2.81-2.81c.8-.78.8-2.07 0-2.86zM5.41 20L4 18.59l7.72-7.72 1.47 1.35L5.41 20z\"/>\n",
              "  </svg>\n",
              "      </button>\n",
              "      \n",
              "  <style>\n",
              "    .colab-df-container {\n",
              "      display:flex;\n",
              "      flex-wrap:wrap;\n",
              "      gap: 12px;\n",
              "    }\n",
              "\n",
              "    .colab-df-convert {\n",
              "      background-color: #E8F0FE;\n",
              "      border: none;\n",
              "      border-radius: 50%;\n",
              "      cursor: pointer;\n",
              "      display: none;\n",
              "      fill: #1967D2;\n",
              "      height: 32px;\n",
              "      padding: 0 0 0 0;\n",
              "      width: 32px;\n",
              "    }\n",
              "\n",
              "    .colab-df-convert:hover {\n",
              "      background-color: #E2EBFA;\n",
              "      box-shadow: 0px 1px 2px rgba(60, 64, 67, 0.3), 0px 1px 3px 1px rgba(60, 64, 67, 0.15);\n",
              "      fill: #174EA6;\n",
              "    }\n",
              "\n",
              "    [theme=dark] .colab-df-convert {\n",
              "      background-color: #3B4455;\n",
              "      fill: #D2E3FC;\n",
              "    }\n",
              "\n",
              "    [theme=dark] .colab-df-convert:hover {\n",
              "      background-color: #434B5C;\n",
              "      box-shadow: 0px 1px 3px 1px rgba(0, 0, 0, 0.15);\n",
              "      filter: drop-shadow(0px 1px 2px rgba(0, 0, 0, 0.3));\n",
              "      fill: #FFFFFF;\n",
              "    }\n",
              "  </style>\n",
              "\n",
              "      <script>\n",
              "        const buttonEl =\n",
              "          document.querySelector('#df-02477465-047a-47fd-90f1-bf7fee6f408b button.colab-df-convert');\n",
              "        buttonEl.style.display =\n",
              "          google.colab.kernel.accessAllowed ? 'block' : 'none';\n",
              "\n",
              "        async function convertToInteractive(key) {\n",
              "          const element = document.querySelector('#df-02477465-047a-47fd-90f1-bf7fee6f408b');\n",
              "          const dataTable =\n",
              "            await google.colab.kernel.invokeFunction('convertToInteractive',\n",
              "                                                     [key], {});\n",
              "          if (!dataTable) return;\n",
              "\n",
              "          const docLinkHtml = 'Like what you see? Visit the ' +\n",
              "            '<a target=\"_blank\" href=https://colab.research.google.com/notebooks/data_table.ipynb>data table notebook</a>'\n",
              "            + ' to learn more about interactive tables.';\n",
              "          element.innerHTML = '';\n",
              "          dataTable['output_type'] = 'display_data';\n",
              "          await google.colab.output.renderOutput(dataTable, element);\n",
              "          const docLink = document.createElement('div');\n",
              "          docLink.innerHTML = docLinkHtml;\n",
              "          element.appendChild(docLink);\n",
              "        }\n",
              "      </script>\n",
              "    </div>\n",
              "  </div>\n",
              "  "
            ]
          },
          "metadata": {},
          "execution_count": 17
        }
      ]
    },
    {
      "cell_type": "markdown",
      "source": [],
      "metadata": {
        "id": "wQxJCMmnu4fh"
      }
    },
    {
      "cell_type": "code",
      "source": [
        "##Save the data to CSV\n",
        "data.to_csv('datasets.csv', index=False)"
      ],
      "metadata": {
        "id": "7lYxmUXYudQe"
      },
      "execution_count": 18,
      "outputs": []
    },
    {
      "cell_type": "markdown",
      "source": [
        "#### Create close price data\n",
        "\n"
      ],
      "metadata": {
        "id": "NXiVKqHzvOHi"
      }
    },
    {
      "cell_type": "code",
      "source": [
        "# read the data from the saved csv file\n",
        "df_prices = pd.read_csv('/content/datasets.csv')"
      ],
      "metadata": {
        "id": "zlP2BP92vO6Y"
      },
      "execution_count": 20,
      "outputs": []
    },
    {
      "cell_type": "code",
      "source": [
        "# Reset the Index to tic and date\n",
        "df_prices = df_prices.reset_index().set_index(['stock_name', 'date']).sort_index()\n",
        "\n",
        "# Get the list of all the tickers\n",
        "tic_list = list(set([i for i,j in df_prices.index]))\n",
        "\n",
        "# Create an empty data frame for the close prices\n",
        "df_close = pd.DataFrame()"
      ],
      "metadata": {
        "id": "a5c4wRPmxBLp"
      },
      "execution_count": 21,
      "outputs": []
    },
    {
      "cell_type": "code",
      "source": [
        "# Reset the Index to tic and date\n",
        "df_prices = df_prices.reset_index().set_index(['stock_name', 'date']).sort_index()\n",
        "\n",
        "# Get all the Close Prices\n",
        "df_close = pd.DataFrame()\n",
        "\n",
        "for ticker in tic_list:\n",
        "    series = df_prices.xs(ticker).close\n",
        "    df_close[ticker] = series\n",
        "    \n",
        "df_close = df_close.reset_index()"
      ],
      "metadata": {
        "id": "eiP6RzkAxHkD"
      },
      "execution_count": 23,
      "outputs": []
    },
    {
      "cell_type": "code",
      "source": [
        "df_close.head()"
      ],
      "metadata": {
        "colab": {
          "base_uri": "https://localhost:8080/",
          "height": 386
        },
        "id": "JjvknDEixTzI",
        "outputId": "13b747ab-0a45-4015-c5fc-f0d2e71c9ad9"
      },
      "execution_count": 24,
      "outputs": [
        {
          "output_type": "execute_result",
          "data": {
            "text/plain": [
              "         date         MMM          BA        CVX          HD       INTC  \\\n",
              "0  2019-01-02  167.532959  314.645111  93.039490  157.620926  42.019070   \n",
              "1  2019-01-03  161.224747  302.100555  91.257530  154.146866  39.707481   \n",
              "2  2019-01-04  167.857605  317.822571  93.148743  158.727142  42.144005   \n",
              "3  2019-01-07  167.471573  318.823456  94.359131  161.853760  42.340359   \n",
              "4  2019-01-08  168.173462  330.891907  93.947273  162.630875  42.608124   \n",
              "\n",
              "          KO         MCD         VZ        MRK  ...         CAT         UNH  \\\n",
              "0  41.707706  161.283463  46.703716  64.045830  ...  114.177406  230.067429   \n",
              "1  41.449970  160.220779  46.870461  62.732563  ...  109.777626  223.793488   \n",
              "2  42.276485  163.317123  46.987164  64.622002  ...  115.776497  226.410797   \n",
              "3  41.725475  165.094299  47.287304  63.910263  ...  115.848770  226.845428   \n",
              "4  42.196503  165.442413  48.671238  64.384750  ...  117.240097  229.878479   \n",
              "\n",
              "            V       MSFT        XOM        IBM         DD        AXP  \\\n",
              "0  129.483673  96.874695  55.804890  90.588524  72.167259  90.403229   \n",
              "1  124.817513  93.310875  54.948090  88.780075  69.506660  88.638588   \n",
              "2  130.194824  97.650688  56.974007  92.247589  72.445229  92.632698   \n",
              "3  132.542526  97.775246  57.270290  92.900200  72.484940  93.135513   \n",
              "4  133.263397  98.484161  57.686680  94.221169  73.318863  93.590919   \n",
              "\n",
              "          PG        WMT  \n",
              "0  82.470016  87.534340  \n",
              "1  81.891777  87.084206  \n",
              "2  83.563217  87.628120  \n",
              "3  83.228951  88.659714  \n",
              "4  83.536110  89.278664  \n",
              "\n",
              "[5 rows x 31 columns]"
            ],
            "text/html": [
              "\n",
              "  <div id=\"df-1b720453-5c33-45b7-a71b-10196f5db3f3\">\n",
              "    <div class=\"colab-df-container\">\n",
              "      <div>\n",
              "<style scoped>\n",
              "    .dataframe tbody tr th:only-of-type {\n",
              "        vertical-align: middle;\n",
              "    }\n",
              "\n",
              "    .dataframe tbody tr th {\n",
              "        vertical-align: top;\n",
              "    }\n",
              "\n",
              "    .dataframe thead th {\n",
              "        text-align: right;\n",
              "    }\n",
              "</style>\n",
              "<table border=\"1\" class=\"dataframe\">\n",
              "  <thead>\n",
              "    <tr style=\"text-align: right;\">\n",
              "      <th></th>\n",
              "      <th>date</th>\n",
              "      <th>MMM</th>\n",
              "      <th>BA</th>\n",
              "      <th>CVX</th>\n",
              "      <th>HD</th>\n",
              "      <th>INTC</th>\n",
              "      <th>KO</th>\n",
              "      <th>MCD</th>\n",
              "      <th>VZ</th>\n",
              "      <th>MRK</th>\n",
              "      <th>...</th>\n",
              "      <th>CAT</th>\n",
              "      <th>UNH</th>\n",
              "      <th>V</th>\n",
              "      <th>MSFT</th>\n",
              "      <th>XOM</th>\n",
              "      <th>IBM</th>\n",
              "      <th>DD</th>\n",
              "      <th>AXP</th>\n",
              "      <th>PG</th>\n",
              "      <th>WMT</th>\n",
              "    </tr>\n",
              "  </thead>\n",
              "  <tbody>\n",
              "    <tr>\n",
              "      <th>0</th>\n",
              "      <td>2019-01-02</td>\n",
              "      <td>167.532959</td>\n",
              "      <td>314.645111</td>\n",
              "      <td>93.039490</td>\n",
              "      <td>157.620926</td>\n",
              "      <td>42.019070</td>\n",
              "      <td>41.707706</td>\n",
              "      <td>161.283463</td>\n",
              "      <td>46.703716</td>\n",
              "      <td>64.045830</td>\n",
              "      <td>...</td>\n",
              "      <td>114.177406</td>\n",
              "      <td>230.067429</td>\n",
              "      <td>129.483673</td>\n",
              "      <td>96.874695</td>\n",
              "      <td>55.804890</td>\n",
              "      <td>90.588524</td>\n",
              "      <td>72.167259</td>\n",
              "      <td>90.403229</td>\n",
              "      <td>82.470016</td>\n",
              "      <td>87.534340</td>\n",
              "    </tr>\n",
              "    <tr>\n",
              "      <th>1</th>\n",
              "      <td>2019-01-03</td>\n",
              "      <td>161.224747</td>\n",
              "      <td>302.100555</td>\n",
              "      <td>91.257530</td>\n",
              "      <td>154.146866</td>\n",
              "      <td>39.707481</td>\n",
              "      <td>41.449970</td>\n",
              "      <td>160.220779</td>\n",
              "      <td>46.870461</td>\n",
              "      <td>62.732563</td>\n",
              "      <td>...</td>\n",
              "      <td>109.777626</td>\n",
              "      <td>223.793488</td>\n",
              "      <td>124.817513</td>\n",
              "      <td>93.310875</td>\n",
              "      <td>54.948090</td>\n",
              "      <td>88.780075</td>\n",
              "      <td>69.506660</td>\n",
              "      <td>88.638588</td>\n",
              "      <td>81.891777</td>\n",
              "      <td>87.084206</td>\n",
              "    </tr>\n",
              "    <tr>\n",
              "      <th>2</th>\n",
              "      <td>2019-01-04</td>\n",
              "      <td>167.857605</td>\n",
              "      <td>317.822571</td>\n",
              "      <td>93.148743</td>\n",
              "      <td>158.727142</td>\n",
              "      <td>42.144005</td>\n",
              "      <td>42.276485</td>\n",
              "      <td>163.317123</td>\n",
              "      <td>46.987164</td>\n",
              "      <td>64.622002</td>\n",
              "      <td>...</td>\n",
              "      <td>115.776497</td>\n",
              "      <td>226.410797</td>\n",
              "      <td>130.194824</td>\n",
              "      <td>97.650688</td>\n",
              "      <td>56.974007</td>\n",
              "      <td>92.247589</td>\n",
              "      <td>72.445229</td>\n",
              "      <td>92.632698</td>\n",
              "      <td>83.563217</td>\n",
              "      <td>87.628120</td>\n",
              "    </tr>\n",
              "    <tr>\n",
              "      <th>3</th>\n",
              "      <td>2019-01-07</td>\n",
              "      <td>167.471573</td>\n",
              "      <td>318.823456</td>\n",
              "      <td>94.359131</td>\n",
              "      <td>161.853760</td>\n",
              "      <td>42.340359</td>\n",
              "      <td>41.725475</td>\n",
              "      <td>165.094299</td>\n",
              "      <td>47.287304</td>\n",
              "      <td>63.910263</td>\n",
              "      <td>...</td>\n",
              "      <td>115.848770</td>\n",
              "      <td>226.845428</td>\n",
              "      <td>132.542526</td>\n",
              "      <td>97.775246</td>\n",
              "      <td>57.270290</td>\n",
              "      <td>92.900200</td>\n",
              "      <td>72.484940</td>\n",
              "      <td>93.135513</td>\n",
              "      <td>83.228951</td>\n",
              "      <td>88.659714</td>\n",
              "    </tr>\n",
              "    <tr>\n",
              "      <th>4</th>\n",
              "      <td>2019-01-08</td>\n",
              "      <td>168.173462</td>\n",
              "      <td>330.891907</td>\n",
              "      <td>93.947273</td>\n",
              "      <td>162.630875</td>\n",
              "      <td>42.608124</td>\n",
              "      <td>42.196503</td>\n",
              "      <td>165.442413</td>\n",
              "      <td>48.671238</td>\n",
              "      <td>64.384750</td>\n",
              "      <td>...</td>\n",
              "      <td>117.240097</td>\n",
              "      <td>229.878479</td>\n",
              "      <td>133.263397</td>\n",
              "      <td>98.484161</td>\n",
              "      <td>57.686680</td>\n",
              "      <td>94.221169</td>\n",
              "      <td>73.318863</td>\n",
              "      <td>93.590919</td>\n",
              "      <td>83.536110</td>\n",
              "      <td>89.278664</td>\n",
              "    </tr>\n",
              "  </tbody>\n",
              "</table>\n",
              "<p>5 rows × 31 columns</p>\n",
              "</div>\n",
              "      <button class=\"colab-df-convert\" onclick=\"convertToInteractive('df-1b720453-5c33-45b7-a71b-10196f5db3f3')\"\n",
              "              title=\"Convert this dataframe to an interactive table.\"\n",
              "              style=\"display:none;\">\n",
              "        \n",
              "  <svg xmlns=\"http://www.w3.org/2000/svg\" height=\"24px\"viewBox=\"0 0 24 24\"\n",
              "       width=\"24px\">\n",
              "    <path d=\"M0 0h24v24H0V0z\" fill=\"none\"/>\n",
              "    <path d=\"M18.56 5.44l.94 2.06.94-2.06 2.06-.94-2.06-.94-.94-2.06-.94 2.06-2.06.94zm-11 1L8.5 8.5l.94-2.06 2.06-.94-2.06-.94L8.5 2.5l-.94 2.06-2.06.94zm10 10l.94 2.06.94-2.06 2.06-.94-2.06-.94-.94-2.06-.94 2.06-2.06.94z\"/><path d=\"M17.41 7.96l-1.37-1.37c-.4-.4-.92-.59-1.43-.59-.52 0-1.04.2-1.43.59L10.3 9.45l-7.72 7.72c-.78.78-.78 2.05 0 2.83L4 21.41c.39.39.9.59 1.41.59.51 0 1.02-.2 1.41-.59l7.78-7.78 2.81-2.81c.8-.78.8-2.07 0-2.86zM5.41 20L4 18.59l7.72-7.72 1.47 1.35L5.41 20z\"/>\n",
              "  </svg>\n",
              "      </button>\n",
              "      \n",
              "  <style>\n",
              "    .colab-df-container {\n",
              "      display:flex;\n",
              "      flex-wrap:wrap;\n",
              "      gap: 12px;\n",
              "    }\n",
              "\n",
              "    .colab-df-convert {\n",
              "      background-color: #E8F0FE;\n",
              "      border: none;\n",
              "      border-radius: 50%;\n",
              "      cursor: pointer;\n",
              "      display: none;\n",
              "      fill: #1967D2;\n",
              "      height: 32px;\n",
              "      padding: 0 0 0 0;\n",
              "      width: 32px;\n",
              "    }\n",
              "\n",
              "    .colab-df-convert:hover {\n",
              "      background-color: #E2EBFA;\n",
              "      box-shadow: 0px 1px 2px rgba(60, 64, 67, 0.3), 0px 1px 3px 1px rgba(60, 64, 67, 0.15);\n",
              "      fill: #174EA6;\n",
              "    }\n",
              "\n",
              "    [theme=dark] .colab-df-convert {\n",
              "      background-color: #3B4455;\n",
              "      fill: #D2E3FC;\n",
              "    }\n",
              "\n",
              "    [theme=dark] .colab-df-convert:hover {\n",
              "      background-color: #434B5C;\n",
              "      box-shadow: 0px 1px 3px 1px rgba(0, 0, 0, 0.15);\n",
              "      filter: drop-shadow(0px 1px 2px rgba(0, 0, 0, 0.3));\n",
              "      fill: #FFFFFF;\n",
              "    }\n",
              "  </style>\n",
              "\n",
              "      <script>\n",
              "        const buttonEl =\n",
              "          document.querySelector('#df-1b720453-5c33-45b7-a71b-10196f5db3f3 button.colab-df-convert');\n",
              "        buttonEl.style.display =\n",
              "          google.colab.kernel.accessAllowed ? 'block' : 'none';\n",
              "\n",
              "        async function convertToInteractive(key) {\n",
              "          const element = document.querySelector('#df-1b720453-5c33-45b7-a71b-10196f5db3f3');\n",
              "          const dataTable =\n",
              "            await google.colab.kernel.invokeFunction('convertToInteractive',\n",
              "                                                     [key], {});\n",
              "          if (!dataTable) return;\n",
              "\n",
              "          const docLinkHtml = 'Like what you see? Visit the ' +\n",
              "            '<a target=\"_blank\" href=https://colab.research.google.com/notebooks/data_table.ipynb>data table notebook</a>'\n",
              "            + ' to learn more about interactive tables.';\n",
              "          element.innerHTML = '';\n",
              "          dataTable['output_type'] = 'display_data';\n",
              "          await google.colab.output.renderOutput(dataTable, element);\n",
              "          const docLink = document.createElement('div');\n",
              "          docLink.innerHTML = docLinkHtml;\n",
              "          element.appendChild(docLink);\n",
              "        }\n",
              "      </script>\n",
              "    </div>\n",
              "  </div>\n",
              "  "
            ]
          },
          "metadata": {},
          "execution_count": 24
        }
      ]
    },
    {
      "cell_type": "code",
      "source": [
        "# Save the Close Price datase\n",
        "df_close.to_csv('close_prices.csv', index=False)"
      ],
      "metadata": {
        "id": "jGbA-BgcxUb6"
      },
      "execution_count": 25,
      "outputs": []
    }
  ]
}