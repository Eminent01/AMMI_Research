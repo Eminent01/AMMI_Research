{
  "nbformat": 4,
  "nbformat_minor": 0,
  "metadata": {
    "colab": {
      "provenance": [],
      "authorship_tag": "ABX9TyOCjhNazxFzWksogGYrTjpE",
      "include_colab_link": true
    },
    "kernelspec": {
      "name": "python3",
      "display_name": "Python 3"
    },
    "language_info": {
      "name": "python"
    }
  },
  "cells": [
    {
      "cell_type": "markdown",
      "metadata": {
        "id": "view-in-github",
        "colab_type": "text"
      },
      "source": [
        "<a href=\"https://colab.research.google.com/github/Eminent01/AMMI_Research/blob/main/AMMI_Research1.ipynb\" target=\"_parent\"><img src=\"https://colab.research.google.com/assets/colab-badge.svg\" alt=\"Open In Colab\"/></a>"
      ]
    },
    {
      "cell_type": "markdown",
      "source": [
        "# Reinforcement Learning for Portfolio Optimization"
      ],
      "metadata": {
        "id": "wBmruVTXF6cP"
      }
    },
    {
      "cell_type": "markdown",
      "source": [
        "## Introduction:\n",
        "In this report we will try to investigate the effectiveness of Reinforcement Learning agents on asset allocation. Reinforcement Learning has been successfully applied to the domain of finance over the years. Inspired by the successes of these applications, we also want to experiment the creation of a learning agent that understand the dynamic of the stock markets and help portfolio managers optimize their portfolio with minimal supervision and inputs.\n",
        "\n",
        " A finite universe of financial instruments, assets, such as stocks, is selected and the role of an agent is to construct an internal representation (model) of the market, allowing it to determine how to optimally allocate funds of a finite budget to those assets. The agent is trained on both synthetic and real market data. Then, its performance is compared with standard portfolio management algorithms on an out-of-sample dataset; data that the agent has not been trained on (i.e., test set).\n",
        "\n",
        "\n",
        "\n",
        "\n",
        "\n"
      ],
      "metadata": {
        "id": "6OTI3rhxF_-P"
      }
    },
    {
      "cell_type": "markdown",
      "source": [
        "## Definition of Finacial terms: "
      ],
      "metadata": {
        "id": "BJtygftbGGCF"
      }
    },
    {
      "cell_type": "markdown",
      "source": [
        "## Evaluation Criterion\n",
        "<ol>\n",
        "<li> Sharpe Ratio\n",
        "</ol> \n"
      ],
      "metadata": {
        "id": "Qjf2HTYaGKu5"
      }
    },
    {
      "cell_type": "markdown",
      "source": [
        "## Reinforcement in Finance\n",
        "<ul>\n",
        "<li> Action $a_t$ $\\epsilon$ A can be said to be the control signal that an agent sends back to the system at time t.\n",
        "\n",
        "Action space is define as a set of actions that the agent is allowed to take an it can be:\n",
        "  <ol>\n",
        "    <li> Discrete : $\\mathbb{A}$ = {$a_1, a_2, . . . , a_M$}\n",
        "    <li> Continuos : $\\mathbb{A} $⊆ $[c, d]^M$\n",
        "  </ol>\n",
        "The action $a_t$ in the asset allocation task at time t can be defined as the portfolio vector $w_t+1$ at time $t+1$.\n",
        "\n",
        "<center> $a_t ≡ w_{t+1} ≜ [w_{1,t+1}, w_{2,t+1}, . . . , w_{M, t+1}]$ </center>\n",
        "$a_t 𝜺 \\mathbb{A} ⊆ \\mathbb{R}^M ~~∀ t ≥ 0$ subject to $\\sum_{i=1}^M a_{i,t} =1$.The portfolio weight are strictly non-negative if shortselling is not allowed.\n",
        "\n",
        "or \n",
        "\n",
        "$a_t 𝜺 \\mathbb{A} ⊆ [0,1]^M ~~∀ t ≥ 0$ subject to $\\sum_{i=1}^M a_{i,t} =1$. In both cases of the action stated above, the state space is infinite and the financial market will be treated as <strong>Infinite Markov Decision Process (IMDP)</strong>."
      ],
      "metadata": {
        "id": "sHxooZ5UGOo4"
      }
    },
    {
      "cell_type": "code",
      "execution_count": null,
      "metadata": {
        "id": "uPf32QbMF48O"
      },
      "outputs": [],
      "source": []
    }
  ]
}